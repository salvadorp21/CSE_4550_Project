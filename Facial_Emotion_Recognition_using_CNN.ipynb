{
  "metadata": {
    "kernelspec": {
      "language": "python",
      "display_name": "Python 3",
      "name": "python3"
    },
    "language_info": {
      "name": "python",
      "version": "3.10.13",
      "mimetype": "text/x-python",
      "codemirror_mode": {
        "name": "ipython",
        "version": 3
      },
      "pygments_lexer": "ipython3",
      "nbconvert_exporter": "python",
      "file_extension": ".py"
    },
    "kaggle": {
      "accelerator": "none",
      "dataSources": [
        {
          "sourceId": 6232032,
          "sourceType": "datasetVersion",
          "datasetId": 3525344
        }
      ],
      "dockerImageVersionId": 30746,
      "isInternetEnabled": true,
      "language": "python",
      "sourceType": "notebook",
      "isGpuEnabled": false
    },
    "colab": {
      "name": "Facial Emotion Recognition using CNN",
      "provenance": [],
      "include_colab_link": true
    }
  },
  "nbformat_minor": 0,
  "nbformat": 4,
  "cells": [
    {
      "cell_type": "markdown",
      "metadata": {
        "id": "view-in-github",
        "colab_type": "text"
      },
      "source": [
        "<a href=\"https://colab.research.google.com/github/salvadorp21/CSE_4550_Project/blob/main/Facial_Emotion_Recognition_using_CNN.ipynb\" target=\"_parent\"><img src=\"https://colab.research.google.com/assets/colab-badge.svg\" alt=\"Open In Colab\"/></a>"
      ]
    },
    {
      "source": [
        "# IMPORTANT: RUN THIS CELL IN ORDER TO IMPORT YOUR KAGGLE DATA SOURCES,\n",
        "# THEN FEEL FREE TO DELETE THIS CELL.\n",
        "# NOTE: THIS NOTEBOOK ENVIRONMENT DIFFERS FROM KAGGLE'S PYTHON\n",
        "# ENVIRONMENT SO THERE MAY BE MISSING LIBRARIES USED BY YOUR\n",
        "# NOTEBOOK.\n",
        "import kagglehub\n",
        "tapakah68_facial_emotion_recognition_path = kagglehub.dataset_download('tapakah68/facial-emotion-recognition')\n",
        "\n",
        "print('Data source import complete.')\n"
      ],
      "metadata": {
        "colab": {
          "base_uri": "https://localhost:8080/"
        },
        "id": "GNNmv6WcWLq1",
        "outputId": "63a1077e-8e5b-45ca-fe3e-7d33c73e8f00"
      },
      "cell_type": "code",
      "outputs": [
        {
          "output_type": "stream",
          "name": "stdout",
          "text": [
            "Data source import complete.\n"
          ]
        }
      ],
      "execution_count": 7
    },
    {
      "cell_type": "code",
      "source": [
        "# Importing necessary libraries\n",
        "import pandas as pd\n",
        "import numpy as np\n",
        "import matplotlib.pyplot as plt\n",
        "import seaborn as sns\n",
        "import cv2\n",
        "import os\n",
        "from sklearn.model_selection import train_test_split\n",
        "from sklearn.preprocessing import LabelEncoder\n",
        "from keras.utils import to_categorical\n",
        "from keras.models import Sequential\n",
        "from keras.layers import Conv2D, MaxPooling2D, Flatten, Dense, Dropout\n",
        "from sklearn.metrics import confusion_matrix, classification_report\n",
        "import itertools\n",
        "import zipfile"
      ],
      "metadata": {
        "_uuid": "8f2839f25d086af736a60e9eeb907d3b93b6e0e5",
        "_cell_guid": "b1076dfc-b9ad-4769-8c92-a6c4dae69d19",
        "execution": {
          "iopub.status.busy": "2024-07-12T22:59:05.404832Z",
          "iopub.execute_input": "2024-07-12T22:59:05.405205Z",
          "iopub.status.idle": "2024-07-12T22:59:10.242382Z",
          "shell.execute_reply.started": "2024-07-12T22:59:05.405174Z",
          "shell.execute_reply": "2024-07-12T22:59:10.241062Z"
        },
        "trusted": true,
        "id": "_-vrhTTeWLq3"
      },
      "execution_count": 13,
      "outputs": []
    },
    {
      "cell_type": "code",
      "source": [
        "IMG_SIZE = 48\n",
        "EMOTIONS = EMOTIONS = ['Anger', 'Contempt', 'Disgust', 'Fear', 'Happy', 'Neutral', 'Sad', 'Surprised']\n",
        "zip_path = 'p3 images.zip'\n",
        "extract_path = './dataset/'  # Destination folder for extraction\n",
        "\n",
        "with zipfile.ZipFile(zip_path, 'r') as zip_ref:\n",
        "    zip_ref.extractall(extract_path)\n",
        "\n",
        "print(f\"Files extracted to {extract_path}\")"
      ],
      "metadata": {
        "id": "LbbaWMWyhBuk",
        "outputId": "4b137d06-76e5-4deb-f667-227469ffa763",
        "colab": {
          "base_uri": "https://localhost:8080/"
        }
      },
      "execution_count": 16,
      "outputs": [
        {
          "output_type": "stream",
          "name": "stdout",
          "text": [
            "Files extracted to ./dataset/\n"
          ]
        }
      ]
    },
    {
      "cell_type": "code",
      "source": [
        "# Constants\n",
        "# Load the dataset\n",
        "df =pd.read_csv('/content/dataset/emotions (1).csv')"
      ],
      "metadata": {
        "execution": {
          "iopub.status.busy": "2024-07-12T22:59:10.244488Z",
          "iopub.execute_input": "2024-07-12T22:59:10.24517Z",
          "iopub.status.idle": "2024-07-12T22:59:10.264025Z",
          "shell.execute_reply.started": "2024-07-12T22:59:10.245132Z",
          "shell.execute_reply": "2024-07-12T22:59:10.262762Z"
        },
        "trusted": true,
        "id": "nXKzCn07WLq3"
      },
      "execution_count": 29,
      "outputs": []
    },
    {
      "cell_type": "code",
      "source": [
        "df['set_id'].unique()"
      ],
      "metadata": {
        "execution": {
          "iopub.status.busy": "2024-07-12T22:59:10.265821Z",
          "iopub.execute_input": "2024-07-12T22:59:10.267425Z",
          "iopub.status.idle": "2024-07-12T22:59:10.277353Z",
          "shell.execute_reply.started": "2024-07-12T22:59:10.267368Z",
          "shell.execute_reply": "2024-07-12T22:59:10.275996Z"
        },
        "trusted": true,
        "colab": {
          "base_uri": "https://localhost:8080/"
        },
        "id": "i6JR159BWLq4",
        "outputId": "abae072a-fd75-4b3b-c89f-1f5a1fb0a6b9"
      },
      "execution_count": 30,
      "outputs": [
        {
          "output_type": "execute_result",
          "data": {
            "text/plain": [
              "array([ 0,  1,  2,  3,  4,  5,  6,  7,  8,  9, 10, 11, 12, 13, 14, 15, 16,\n",
              "       17, 18])"
            ]
          },
          "metadata": {},
          "execution_count": 30
        }
      ]
    },
    {
      "cell_type": "code",
      "source": [
        "# Gender distribution\n",
        "plt.figure(figsize=(10, 8))\n",
        "gender_counts = emotions_df['gender'].value_counts()\n",
        "plt.bar(gender_counts.index, gender_counts.values, color=['blue', 'pink'])\n",
        "plt.title('Gender Distribution', fontsize=16)\n",
        "plt.xlabel('Gender', fontsize=14)\n",
        "plt.ylabel('Count', fontsize=14)\n",
        "plt.xticks([0, 1], ['Female', 'Male'])\n",
        "plt.show()"
      ],
      "metadata": {
        "execution": {
          "iopub.status.busy": "2024-07-12T22:59:10.2801Z",
          "iopub.execute_input": "2024-07-12T22:59:10.280496Z",
          "iopub.status.idle": "2024-07-12T22:59:10.499259Z",
          "shell.execute_reply.started": "2024-07-12T22:59:10.280457Z",
          "shell.execute_reply": "2024-07-12T22:59:10.498158Z"
        },
        "trusted": true,
        "id": "Ssg0JQGEWLq4"
      },
      "execution_count": null,
      "outputs": []
    },
    {
      "cell_type": "code",
      "source": [
        "# Age distribution with KDE\n",
        "plt.figure(figsize=(12, 8))\n",
        "emotions_df['age'].plot(kind='hist', bins=30, density=True, alpha=0.5, color='purple', edgecolor='black')\n",
        "emotions_df['age'].plot(kind='kde', color='black')\n",
        "plt.title('Age Distribution with KDE', fontsize=16)\n",
        "plt.xlabel('Age', fontsize=14)\n",
        "plt.ylabel('Density', fontsize=14)\n",
        "plt.show()"
      ],
      "metadata": {
        "execution": {
          "iopub.status.busy": "2024-07-12T22:59:10.500768Z",
          "iopub.execute_input": "2024-07-12T22:59:10.501197Z",
          "iopub.status.idle": "2024-07-12T22:59:10.854728Z",
          "shell.execute_reply.started": "2024-07-12T22:59:10.501161Z",
          "shell.execute_reply": "2024-07-12T22:59:10.853376Z"
        },
        "trusted": true,
        "id": "UmOX_x_jWLq4"
      },
      "execution_count": null,
      "outputs": []
    },
    {
      "cell_type": "code",
      "source": [
        "# Box plot of age by gender\n",
        "plt.figure(figsize=(10, 8))\n",
        "emotions_df.boxplot(column='age', by='gender', grid=False, patch_artist=True, boxprops=dict(facecolor='lightblue'))\n",
        "plt.title('Box Plot of Age by Gender', fontsize=16)\n",
        "plt.suptitle('')\n",
        "plt.xlabel('Gender', fontsize=14)\n",
        "plt.ylabel('Age', fontsize=14)\n",
        "plt.xticks([1, 2], ['Female', 'Male'])\n",
        "plt.show()"
      ],
      "metadata": {
        "execution": {
          "iopub.status.busy": "2024-07-12T22:59:10.85667Z",
          "iopub.execute_input": "2024-07-12T22:59:10.857085Z",
          "iopub.status.idle": "2024-07-12T22:59:11.105076Z",
          "shell.execute_reply.started": "2024-07-12T22:59:10.857052Z",
          "shell.execute_reply": "2024-07-12T22:59:11.103874Z"
        },
        "trusted": true,
        "id": "TQozsgnyWLq4"
      },
      "execution_count": null,
      "outputs": []
    },
    {
      "cell_type": "code",
      "source": [
        "# Pie chart for country distribution\n",
        "country_counts = emotions_df['country'].value_counts()\n",
        "plt.figure(figsize=(12, 10))\n",
        "plt.pie(country_counts, labels=country_counts.index, autopct='%1.1f%%', colors=plt.cm.Paired(np.arange(len(country_counts))))\n",
        "plt.title('Country Distribution', fontsize=16)\n",
        "plt.show()"
      ],
      "metadata": {
        "execution": {
          "iopub.status.busy": "2024-07-12T22:59:11.106736Z",
          "iopub.execute_input": "2024-07-12T22:59:11.107158Z",
          "iopub.status.idle": "2024-07-12T22:59:11.312226Z",
          "shell.execute_reply.started": "2024-07-12T22:59:11.10712Z",
          "shell.execute_reply": "2024-07-12T22:59:11.310812Z"
        },
        "trusted": true,
        "id": "AJSjlUCkWLq5"
      },
      "execution_count": null,
      "outputs": []
    },
    {
      "cell_type": "code",
      "source": [
        "plt.figure(figsize=(10, 8))\n",
        "numeric_cols = emotions_df.select_dtypes(include=[np.number])\n",
        "corr = numeric_cols.corr()\n",
        "sns.heatmap(corr, annot=True, cmap='coolwarm', linewidths=0.5)\n",
        "plt.title('Correlation Matrix', fontsize=16)\n",
        "plt.show()"
      ],
      "metadata": {
        "execution": {
          "iopub.status.busy": "2024-07-12T22:59:11.314115Z",
          "iopub.execute_input": "2024-07-12T22:59:11.315277Z",
          "iopub.status.idle": "2024-07-12T22:59:11.567657Z",
          "shell.execute_reply.started": "2024-07-12T22:59:11.315226Z",
          "shell.execute_reply": "2024-07-12T22:59:11.566631Z"
        },
        "trusted": true,
        "id": "avjoopCUWLq5"
      },
      "execution_count": null,
      "outputs": []
    },
    {
      "cell_type": "code",
      "source": [
        "# Encode the gender column\n",
        "label_encoder = LabelEncoder()\n",
        "emotions_df['gender'] = label_encoder.fit_transform(emotions_df['gender'])"
      ],
      "metadata": {
        "execution": {
          "iopub.status.busy": "2024-07-12T22:59:11.569041Z",
          "iopub.execute_input": "2024-07-12T22:59:11.569414Z",
          "iopub.status.idle": "2024-07-12T22:59:11.575222Z",
          "shell.execute_reply.started": "2024-07-12T22:59:11.569384Z",
          "shell.execute_reply": "2024-07-12T22:59:11.57419Z"
        },
        "trusted": true,
        "id": "XKS1qBNQWLq5"
      },
      "execution_count": null,
      "outputs": []
    },
    {
      "cell_type": "code",
      "source": [
        "# Function to load and preprocess images\n",
        "def load_data():\n",
        "    images = []\n",
        "    labels = []\n",
        "\n",
        "    for emotion_label, emotion in enumerate(EMOTIONS):\n",
        "        # Get the directory for the current emotion\n",
        "        emotion_dir = os.path.join(DATA_DIR, str(emotion_label))\n",
        "        if os.path.isdir(emotion_dir):\n",
        "            for img_file in os.listdir(emotion_dir):\n",
        "                img_path = os.path.join(emotion_dir, img_file)\n",
        "                img_array = cv2.imread(img_path, cv2.IMREAD_GRAYSCALE)\n",
        "                img_resized = cv2.resize(img_array, (IMG_SIZE, IMG_SIZE))\n",
        "                images.append(img_resized)\n",
        "                labels.append(emotion_label)  # Assigning label based on index\n",
        "        else:\n",
        "            print(f\"Directory not found for emotion {emotion}: {emotion_dir}\")\n",
        "\n",
        "    return np.array(images), np.array(labels)\n",
        "\n",
        "# Load the data\n",
        "images, labels = load_data()"
      ],
      "metadata": {
        "execution": {
          "iopub.status.busy": "2024-07-12T22:59:11.578444Z",
          "iopub.execute_input": "2024-07-12T22:59:11.579381Z",
          "iopub.status.idle": "2024-07-12T22:59:15.831999Z",
          "shell.execute_reply.started": "2024-07-12T22:59:11.579346Z",
          "shell.execute_reply": "2024-07-12T22:59:15.83093Z"
        },
        "trusted": true,
        "id": "weeoKATsWLq5"
      },
      "execution_count": null,
      "outputs": []
    },
    {
      "cell_type": "code",
      "source": [
        "# Normalize images\n",
        "images = images / 255.0\n",
        "\n",
        "# Encode labels to categorical\n",
        "labels_categorical = to_categorical(labels, num_classes=len(EMOTIONS))"
      ],
      "metadata": {
        "execution": {
          "iopub.status.busy": "2024-07-12T22:59:15.833328Z",
          "iopub.execute_input": "2024-07-12T22:59:15.833652Z",
          "iopub.status.idle": "2024-07-12T22:59:15.839477Z",
          "shell.execute_reply.started": "2024-07-12T22:59:15.833627Z",
          "shell.execute_reply": "2024-07-12T22:59:15.838317Z"
        },
        "trusted": true,
        "id": "gODSOEJ6WLq5"
      },
      "execution_count": null,
      "outputs": []
    },
    {
      "cell_type": "code",
      "source": [
        "# Check the distribution of the labels to ensure balance\n",
        "print(\"Distribution of emotions:\")\n",
        "print(pd.Series(labels).value_counts())"
      ],
      "metadata": {
        "execution": {
          "iopub.status.busy": "2024-07-12T22:59:15.84116Z",
          "iopub.execute_input": "2024-07-12T22:59:15.842011Z",
          "iopub.status.idle": "2024-07-12T22:59:15.853771Z",
          "shell.execute_reply.started": "2024-07-12T22:59:15.841968Z",
          "shell.execute_reply": "2024-07-12T22:59:15.852453Z"
        },
        "trusted": true,
        "id": "oKe6mwUHWLq6"
      },
      "execution_count": null,
      "outputs": []
    },
    {
      "cell_type": "code",
      "source": [
        "# Split the data\n",
        "X_train, X_test, y_train, y_test = train_test_split(images, labels_categorical, test_size=0.2, random_state=42)"
      ],
      "metadata": {
        "execution": {
          "iopub.status.busy": "2024-07-12T22:59:15.855239Z",
          "iopub.execute_input": "2024-07-12T22:59:15.855715Z",
          "iopub.status.idle": "2024-07-12T22:59:15.865082Z",
          "shell.execute_reply.started": "2024-07-12T22:59:15.855639Z",
          "shell.execute_reply": "2024-07-12T22:59:15.864025Z"
        },
        "trusted": true,
        "id": "XHwO6dWZWLq6"
      },
      "execution_count": null,
      "outputs": []
    },
    {
      "cell_type": "code",
      "source": [
        "# Reshape for the model\n",
        "X_train = X_train.reshape(-1, IMG_SIZE, IMG_SIZE, 1)\n",
        "X_test = X_test.reshape(-1, IMG_SIZE, IMG_SIZE, 1)"
      ],
      "metadata": {
        "execution": {
          "iopub.status.busy": "2024-07-12T22:59:15.866359Z",
          "iopub.execute_input": "2024-07-12T22:59:15.866751Z",
          "iopub.status.idle": "2024-07-12T22:59:15.873323Z",
          "shell.execute_reply.started": "2024-07-12T22:59:15.866711Z",
          "shell.execute_reply": "2024-07-12T22:59:15.872177Z"
        },
        "trusted": true,
        "id": "KmzHLuwiWLq6"
      },
      "execution_count": null,
      "outputs": []
    },
    {
      "cell_type": "code",
      "source": [
        "# Model Training\n",
        "model = Sequential([\n",
        "    Conv2D(32, (3, 3), activation='relu', input_shape=(IMG_SIZE, IMG_SIZE, 1)),\n",
        "    MaxPooling2D((2, 2)),\n",
        "    Conv2D(64, (3, 3), activation='relu'),\n",
        "    MaxPooling2D((2, 2)),\n",
        "    Conv2D(128, (3, 3), activation='relu'),\n",
        "    MaxPooling2D((2, 2)),\n",
        "    Flatten(),\n",
        "    Dense(128, activation='relu'),\n",
        "    Dropout(0.5),\n",
        "    Dense(len(EMOTIONS), activation='softmax')  # Ensure the correct number of classes\n",
        "])\n",
        "\n",
        "model.compile(optimizer='adam', loss='categorical_crossentropy', metrics=['accuracy'])\n",
        "history = model.fit(X_train, y_train, epochs=20, validation_data=(X_test, y_test))"
      ],
      "metadata": {
        "execution": {
          "iopub.status.busy": "2024-07-12T22:59:15.874725Z",
          "iopub.execute_input": "2024-07-12T22:59:15.875063Z",
          "iopub.status.idle": "2024-07-12T22:59:21.116697Z",
          "shell.execute_reply.started": "2024-07-12T22:59:15.875036Z",
          "shell.execute_reply": "2024-07-12T22:59:21.115532Z"
        },
        "trusted": true,
        "id": "yacIf4wIWLq6"
      },
      "execution_count": null,
      "outputs": []
    },
    {
      "cell_type": "code",
      "source": [
        "# Plot training history\n",
        "plt.figure(figsize=(12, 4))\n",
        "plt.subplot(1, 2, 1)\n",
        "plt.plot(history.history['accuracy'], label='accuracy')\n",
        "plt.plot(history.history['val_accuracy'], label='val_accuracy')\n",
        "plt.title('Model Accuracy')\n",
        "plt.xlabel('Epochs')\n",
        "plt.ylabel('Accuracy')\n",
        "plt.legend()\n",
        "\n",
        "plt.subplot(1, 2, 2)\n",
        "plt.plot(history.history['loss'], label='loss')\n",
        "plt.plot(history.history['val_loss'], label='val_loss')\n",
        "plt.title('Model Loss')\n",
        "plt.xlabel('Epochs')\n",
        "plt.ylabel('Loss')\n",
        "plt.legend()\n",
        "plt.show()"
      ],
      "metadata": {
        "execution": {
          "iopub.status.busy": "2024-07-12T22:59:21.11864Z",
          "iopub.execute_input": "2024-07-12T22:59:21.118981Z",
          "iopub.status.idle": "2024-07-12T22:59:21.608955Z",
          "shell.execute_reply.started": "2024-07-12T22:59:21.118955Z",
          "shell.execute_reply": "2024-07-12T22:59:21.60767Z"
        },
        "trusted": true,
        "id": "7UgUyeF_WLq6"
      },
      "execution_count": null,
      "outputs": []
    },
    {
      "cell_type": "code",
      "source": [
        "# Model Evaluation\n",
        "y_pred = model.predict(X_test)\n",
        "y_pred_classes = np.argmax(y_pred, axis=1)\n",
        "y_true = np.argmax(y_test, axis=1)\n",
        "\n",
        "# Confusion Matrix\n",
        "cm = confusion_matrix(y_true, y_pred_classes)\n",
        "cm_df = pd.DataFrame(cm, index=EMOTIONS, columns=EMOTIONS)\n",
        "\n",
        "plt.figure(figsize=(10, 8))\n",
        "sns.heatmap(cm_df, annot=True, fmt='d', cmap='Blues')\n",
        "plt.title('Confusion Matrix')\n",
        "plt.xlabel('Predicted Label')\n",
        "plt.ylabel('True Label')\n",
        "plt.show()\n",
        "\n",
        "# Classification Report\n",
        "report = classification_report(y_true, y_pred_classes, target_names=EMOTIONS)\n",
        "print(report)"
      ],
      "metadata": {
        "execution": {
          "iopub.status.busy": "2024-07-12T22:59:21.610468Z",
          "iopub.execute_input": "2024-07-12T22:59:21.610835Z",
          "iopub.status.idle": "2024-07-12T22:59:22.210095Z",
          "shell.execute_reply.started": "2024-07-12T22:59:21.610804Z",
          "shell.execute_reply": "2024-07-12T22:59:22.208873Z"
        },
        "trusted": true,
        "id": "gUACa8fYWLq6"
      },
      "execution_count": null,
      "outputs": []
    },
    {
      "cell_type": "code",
      "source": [
        "# Display images with predicted and actual labels\n",
        "num_images = min(20, len(X_test))\n",
        "plt.figure(figsize=(20, 20))\n",
        "for i in range(num_images):\n",
        "    plt.subplot(5, 4, i + 1)\n",
        "    img = (X_test[i] * 255).astype(np.uint8)  # Convert back to uint8\n",
        "    plt.imshow(cv2.cvtColor(img, cv2.COLOR_BGR2RGB))  # Convert BGR to RGB for display\n",
        "    plt.title(f\"Actual: {EMOTIONS[y_true[i]]}\\nPredicted: {EMOTIONS[y_pred_classes[i]]}\")\n",
        "    plt.axis('off')\n",
        "plt.show()"
      ],
      "metadata": {
        "execution": {
          "iopub.status.busy": "2024-07-12T23:02:57.374039Z",
          "iopub.execute_input": "2024-07-12T23:02:57.374497Z",
          "iopub.status.idle": "2024-07-12T23:02:58.45178Z",
          "shell.execute_reply.started": "2024-07-12T23:02:57.374464Z",
          "shell.execute_reply": "2024-07-12T23:02:58.450639Z"
        },
        "trusted": true,
        "colab": {
          "base_uri": "https://localhost:8080/",
          "height": 211
        },
        "id": "BScLcz2PWLq6",
        "outputId": "44bee9b4-e691-4540-a3be-6cac7e6dba38"
      },
      "execution_count": 1,
      "outputs": [
        {
          "output_type": "error",
          "ename": "NameError",
          "evalue": "name 'X_test' is not defined",
          "traceback": [
            "\u001b[0;31m---------------------------------------------------------------------------\u001b[0m",
            "\u001b[0;31mNameError\u001b[0m                                 Traceback (most recent call last)",
            "\u001b[0;32m<ipython-input-1-d98df1b641bb>\u001b[0m in \u001b[0;36m<cell line: 2>\u001b[0;34m()\u001b[0m\n\u001b[1;32m      1\u001b[0m \u001b[0;31m# Display images with predicted and actual labels\u001b[0m\u001b[0;34m\u001b[0m\u001b[0;34m\u001b[0m\u001b[0m\n\u001b[0;32m----> 2\u001b[0;31m \u001b[0mnum_images\u001b[0m \u001b[0;34m=\u001b[0m \u001b[0mmin\u001b[0m\u001b[0;34m(\u001b[0m\u001b[0;36m20\u001b[0m\u001b[0;34m,\u001b[0m \u001b[0mlen\u001b[0m\u001b[0;34m(\u001b[0m\u001b[0mX_test\u001b[0m\u001b[0;34m)\u001b[0m\u001b[0;34m)\u001b[0m\u001b[0;34m\u001b[0m\u001b[0;34m\u001b[0m\u001b[0m\n\u001b[0m\u001b[1;32m      3\u001b[0m \u001b[0mplt\u001b[0m\u001b[0;34m.\u001b[0m\u001b[0mfigure\u001b[0m\u001b[0;34m(\u001b[0m\u001b[0mfigsize\u001b[0m\u001b[0;34m=\u001b[0m\u001b[0;34m(\u001b[0m\u001b[0;36m20\u001b[0m\u001b[0;34m,\u001b[0m \u001b[0;36m20\u001b[0m\u001b[0;34m)\u001b[0m\u001b[0;34m)\u001b[0m\u001b[0;34m\u001b[0m\u001b[0;34m\u001b[0m\u001b[0m\n\u001b[1;32m      4\u001b[0m \u001b[0;32mfor\u001b[0m \u001b[0mi\u001b[0m \u001b[0;32min\u001b[0m \u001b[0mrange\u001b[0m\u001b[0;34m(\u001b[0m\u001b[0mnum_images\u001b[0m\u001b[0;34m)\u001b[0m\u001b[0;34m:\u001b[0m\u001b[0;34m\u001b[0m\u001b[0;34m\u001b[0m\u001b[0m\n\u001b[1;32m      5\u001b[0m     \u001b[0mplt\u001b[0m\u001b[0;34m.\u001b[0m\u001b[0msubplot\u001b[0m\u001b[0;34m(\u001b[0m\u001b[0;36m5\u001b[0m\u001b[0;34m,\u001b[0m \u001b[0;36m4\u001b[0m\u001b[0;34m,\u001b[0m \u001b[0mi\u001b[0m \u001b[0;34m+\u001b[0m \u001b[0;36m1\u001b[0m\u001b[0;34m)\u001b[0m\u001b[0;34m\u001b[0m\u001b[0;34m\u001b[0m\u001b[0m\n",
            "\u001b[0;31mNameError\u001b[0m: name 'X_test' is not defined"
          ]
        }
      ]
    }
  ]
}